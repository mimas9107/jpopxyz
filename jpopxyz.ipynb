{
 "cells": [
  {
   "cell_type": "code",
   "execution_count": 1,
   "id": "56dc93d2",
   "metadata": {},
   "outputs": [],
   "source": [
    "site_url=\"https://jpop.xyz/\"\n",
    "# import numpy as np\n",
    "# import matplotlib.pyplot as plt\n",
    "import requests\n",
    "import random\n",
    "from bs4 import BeautifulSoup as bs\n",
    "import time\n",
    "import json\n",
    "import datetime\n",
    "import pandas as pd\n",
    "\n"
   ]
  },
  {
   "cell_type": "code",
   "execution_count": 2,
   "id": "55731dda",
   "metadata": {},
   "outputs": [],
   "source": [
    "header1={\n",
    "    \"User-Agent\":\"Mozilla/5.0 (X11; Ubuntu; Linux x86_64; rv:88.0) Gecko/20100101 Firefox/88.0\"\n",
    "}\n",
    "header2={\n",
    "    \"User-Agent\":\"Mozilla/5.0 (Windows NT 10.0; Win64; x64) AppleWebKit/537.36 (KHTML, like Gecko) Chrome/80.0.3987.149 Safari/537.36\"\n",
    "}\n",
    "header3={\n",
    "    \"User-Agent\":\"Mozilla/5.0 (X11; Linux x86_64) AppleWebKit/537.36 (KHTML, like Gecko) Chrome/90.0.4430.72 Safari/537.36\"\n",
    "}\n",
    "header4={\n",
    "    \"User-Agent\": \"Mozilla/5.0 (Windows NT 10.0; Win64; x64) AppleWebKit/537.36 (KHTML, like Gecko) Chrome/100.0.4896.127 Safari/537.36 Edg/100.0.1185.50\"\n",
    "}\n",
    "\n",
    "headers_list=[header1,header2,header3,header4]\n",
    "\n",
    "\n"
   ]
  },
  {
   "cell_type": "code",
   "execution_count": 3,
   "id": "0ff4c34e",
   "metadata": {},
   "outputs": [],
   "source": [
    "headers=random.choice(headers_list)\n",
    "session0 = requests.session()\n",
    "resp0 = session0.get(site_url,headers=headers)\n",
    "soup0 = bs(resp0.text,'lxml')\n"
   ]
  },
  {
   "cell_type": "code",
   "execution_count": 4,
   "id": "cc3dbfb8",
   "metadata": {},
   "outputs": [
    {
     "name": "stdout",
     "output_type": "stream",
     "text": [
      "12\n"
     ]
    }
   ],
   "source": [
    "print(len(soup0.select(\"div article\")))"
   ]
  },
  {
   "cell_type": "code",
   "execution_count": 33,
   "id": "9cbbe896",
   "metadata": {
    "scrolled": true
   },
   "outputs": [
    {
     "name": "stdout",
     "output_type": "stream",
     "text": [
      "**************** https://jpop.xyz/  -  1 ****************\n",
      "**************** https://jpop.xyz/page/2/  -  2 ****************\n",
      "**************** https://jpop.xyz/page/3/  -  3 ****************\n",
      "**************** https://jpop.xyz/page/4/  -  4 ****************\n",
      "**************** https://jpop.xyz/page/5/  -  5 ****************\n",
      "**************** https://jpop.xyz/page/6/  -  6 ****************\n",
      "**************** https://jpop.xyz/page/7/  -  7 ****************\n",
      "**************** https://jpop.xyz/page/8/  -  8 ****************\n",
      "**************** https://jpop.xyz/page/9/  -  9 ****************\n",
      "**************** https://jpop.xyz/page/10/  -  10 ****************\n",
      "**************** https://jpop.xyz/page/11/  -  11 ****************\n",
      "**************** https://jpop.xyz/page/12/  -  12 ****************\n",
      "**************** https://jpop.xyz/page/13/  -  13 ****************\n",
      "**************** https://jpop.xyz/page/14/  -  14 ****************\n",
      "**************** https://jpop.xyz/page/15/  -  15 ****************\n",
      "**************** https://jpop.xyz/page/16/  -  16 ****************\n",
      "**************** https://jpop.xyz/page/17/  -  17 ****************\n",
      "**************** https://jpop.xyz/page/18/  -  18 ****************\n",
      "**************** https://jpop.xyz/page/19/  -  19 ****************\n",
      "**************** https://jpop.xyz/page/20/  -  20 ****************\n",
      "**************** https://jpop.xyz/page/21/  -  21 ****************\n"
     ]
    }
   ],
   "source": [
    "site_url=\"https://jpop.xyz/\"\n",
    "page_current:int = 1\n",
    "page_next:int = page_current + 1\n",
    "page_max:int = 22\n",
    "article_current_page_num = page_current\n",
    "articles_db=[]\n",
    "\n",
    "while article_current_page_num <page_max:\n",
    "    headers=random.choice(headers_list)\n",
    "    session = requests.session()\n",
    "    resp = session.get(site_url,headers=headers)\n",
    "    soup = bs(resp.text,'lxml')\n",
    "    print(\"****************\",site_url,\" - \",article_current_page_num,\"****************\")\n",
    "    #parsing:\n",
    "    for i in range(len(soup.select(\"div article\"))):\n",
    "        article_figure_url:str = soup.select(\"div article\")[i].select(\"figure img\")[0]['src']\n",
    "        article_title:str = soup.select(\"div article\")[i].select(\"h2 a\")[0]['title']\n",
    "        article_detail_url:str = soup.select(\"div article\")[i].select(\"h2 a\")[0]['href']\n",
    "#         print(\"title={},url={},figure={}\".format(article_title, article_detail_url,article_figure_url))\n",
    "        articles_db.append({\"title\":article_title, \"url\":article_detail_url, \"img\":article_figure_url})\n",
    "#     article_current_page_num:int = int(soup.select(\"div.nav-links\")[0].select(\"span\")[0].text)\n",
    "    article_next_page_url:str = soup.select(\"div.nav-links\")[0].select(\"a\")[-1]['href']\n",
    "    \n",
    "    site_url:str = article_next_page_url\n",
    "    article_current_page_num +=1\n",
    "    \n",
    "    #         delay_choices = [8, 5, 10, 6, 13, 11]  #延遲的秒數\n",
    "    delay_choices = [5, 3, 4, 6, 2]\n",
    "    delay = random.choice(delay_choices)   #隨機選取秒數\n",
    "#     print('delay time=',delay,'next=',site_url)\n",
    "    time.sleep(delay)                      #延遲\n",
    "    session.close()"
   ]
  },
  {
   "cell_type": "code",
   "execution_count": null,
   "id": "fcd136ed",
   "metadata": {},
   "outputs": [],
   "source": [
    "# articles_db"
   ]
  },
  {
   "cell_type": "code",
   "execution_count": null,
   "id": "8dee9f27",
   "metadata": {},
   "outputs": [],
   "source": [
    "# df1 = pd.DataFrame(articles_db)\n",
    "# df1"
   ]
  },
  {
   "cell_type": "code",
   "execution_count": 34,
   "id": "bf6420e2",
   "metadata": {},
   "outputs": [],
   "source": [
    "endl:str = \"\\n\"\n",
    "Y=datetime.datetime.now().year\n",
    "M=datetime.datetime.now().month\n",
    "D=datetime.datetime.now().day\n",
    "H=datetime.datetime.now().hour\n",
    "m=datetime.datetime.now().minute\n",
    "s=datetime.datetime.now().second\n",
    "# df1.to_csv(\"output-{}{}{}-{}{}{}.csv\".format(Y,M,D,H,m,s))\n",
    "# df1.to_html(\"output-{}{}{}-{}{}{}.html\".format(Y,M,D,H,m,s))\n",
    "filename =\"output-{}{}{}-{}{}{}.html\".format(Y,M,D,H,m,s)\n",
    "f = open(filename,\"w\")\n",
    "f.write(\"<table border=\\\"1\\\" class=\\\"dataframe\\\">\"+endl)\n",
    "f.write(\"<thead>\"+endl)\n",
    "f.write(\"<tr style=\\\"text-align: right;\\\">\"+endl)\n",
    "f.write(\"<th>img</th>\"+endl)\n",
    "f.write(\"<th>articles</th>\"+endl)\n",
    "f.write(\"</tr>\"+endl)\n",
    "f.write(\"</thead>\"+endl)\n",
    "f.write(\"<tbody>\"+endl)\n",
    "for i in articles_db:\n",
    "    f.write(\"<tr>\"+endl)\n",
    "    f.write(\"<td><img src=\\\"{}\\\" width=\\\"125\\\" height=\\\"125\\\"></td>\".format(i['img']) + endl)\n",
    "    f.write(\"<td><a href=\\\"{}\\\"> {} </a></td>\".format(i['url'],i['title']) + endl)\n",
    "    f.write(\"</tr>\"+endl)\n",
    "\n",
    "f.write(\"</tbody>\"+endl)\n",
    "f.write(\"</table>\"+endl)\n",
    "\n",
    "            \n",
    "f.close()"
   ]
  },
  {
   "cell_type": "code",
   "execution_count": null,
   "id": "78b9a3d2",
   "metadata": {},
   "outputs": [],
   "source": []
  },
  {
   "cell_type": "code",
   "execution_count": null,
   "id": "444c579c",
   "metadata": {},
   "outputs": [],
   "source": []
  },
  {
   "cell_type": "code",
   "execution_count": null,
   "id": "1a8192c1",
   "metadata": {},
   "outputs": [],
   "source": []
  },
  {
   "cell_type": "code",
   "execution_count": null,
   "id": "37c2803f",
   "metadata": {},
   "outputs": [],
   "source": []
  },
  {
   "cell_type": "code",
   "execution_count": null,
   "id": "64580b0f",
   "metadata": {},
   "outputs": [],
   "source": []
  }
 ],
 "metadata": {
  "kernelspec": {
   "display_name": "Python 3 (ipykernel)",
   "language": "python",
   "name": "python3"
  },
  "language_info": {
   "codemirror_mode": {
    "name": "ipython",
    "version": 3
   },
   "file_extension": ".py",
   "mimetype": "text/x-python",
   "name": "python",
   "nbconvert_exporter": "python",
   "pygments_lexer": "ipython3",
   "version": "3.10.6"
  }
 },
 "nbformat": 4,
 "nbformat_minor": 5
}
